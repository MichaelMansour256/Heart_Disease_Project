{
 "cells": [
  {
   "cell_type": "code",
   "execution_count": 3,
   "id": "c0db0d36-6452-4e8e-925c-86c882c14823",
   "metadata": {},
   "outputs": [
    {
     "data": {
      "text/html": [
       "<div>\n",
       "<style scoped>\n",
       "    .dataframe tbody tr th:only-of-type {\n",
       "        vertical-align: middle;\n",
       "    }\n",
       "\n",
       "    .dataframe tbody tr th {\n",
       "        vertical-align: top;\n",
       "    }\n",
       "\n",
       "    .dataframe thead th {\n",
       "        text-align: right;\n",
       "    }\n",
       "</style>\n",
       "<table border=\"1\" class=\"dataframe\">\n",
       "  <thead>\n",
       "    <tr style=\"text-align: right;\">\n",
       "      <th></th>\n",
       "      <th>ca_0.0</th>\n",
       "      <th>thalach</th>\n",
       "      <th>thal_3.0</th>\n",
       "      <th>oldpeak</th>\n",
       "      <th>age</th>\n",
       "      <th>cp_4</th>\n",
       "      <th>thal_7.0</th>\n",
       "      <th>trestbps</th>\n",
       "      <th>target</th>\n",
       "    </tr>\n",
       "  </thead>\n",
       "  <tbody>\n",
       "    <tr>\n",
       "      <th>0</th>\n",
       "      <td>1.0</td>\n",
       "      <td>0.017494</td>\n",
       "      <td>0.0</td>\n",
       "      <td>1.068965</td>\n",
       "      <td>0.936181</td>\n",
       "      <td>0.0</td>\n",
       "      <td>0.0</td>\n",
       "      <td>0.750380</td>\n",
       "      <td>0</td>\n",
       "    </tr>\n",
       "    <tr>\n",
       "      <th>1</th>\n",
       "      <td>0.0</td>\n",
       "      <td>-1.816334</td>\n",
       "      <td>1.0</td>\n",
       "      <td>0.381773</td>\n",
       "      <td>1.378929</td>\n",
       "      <td>1.0</td>\n",
       "      <td>0.0</td>\n",
       "      <td>1.596266</td>\n",
       "      <td>1</td>\n",
       "    </tr>\n",
       "    <tr>\n",
       "      <th>2</th>\n",
       "      <td>0.0</td>\n",
       "      <td>-0.899420</td>\n",
       "      <td>0.0</td>\n",
       "      <td>1.326662</td>\n",
       "      <td>1.378929</td>\n",
       "      <td>1.0</td>\n",
       "      <td>1.0</td>\n",
       "      <td>-0.659431</td>\n",
       "      <td>1</td>\n",
       "    </tr>\n",
       "    <tr>\n",
       "      <th>3</th>\n",
       "      <td>1.0</td>\n",
       "      <td>1.633010</td>\n",
       "      <td>1.0</td>\n",
       "      <td>2.099753</td>\n",
       "      <td>-1.941680</td>\n",
       "      <td>0.0</td>\n",
       "      <td>0.0</td>\n",
       "      <td>-0.095506</td>\n",
       "      <td>0</td>\n",
       "    </tr>\n",
       "    <tr>\n",
       "      <th>4</th>\n",
       "      <td>1.0</td>\n",
       "      <td>0.978071</td>\n",
       "      <td>1.0</td>\n",
       "      <td>0.295874</td>\n",
       "      <td>-1.498933</td>\n",
       "      <td>0.0</td>\n",
       "      <td>0.0</td>\n",
       "      <td>-0.095506</td>\n",
       "      <td>0</td>\n",
       "    </tr>\n",
       "  </tbody>\n",
       "</table>\n",
       "</div>"
      ],
      "text/plain": [
       "   ca_0.0   thalach  thal_3.0   oldpeak       age  cp_4  thal_7.0  trestbps  \\\n",
       "0     1.0  0.017494       0.0  1.068965  0.936181   0.0       0.0  0.750380   \n",
       "1     0.0 -1.816334       1.0  0.381773  1.378929   1.0       0.0  1.596266   \n",
       "2     0.0 -0.899420       0.0  1.326662  1.378929   1.0       1.0 -0.659431   \n",
       "3     1.0  1.633010       1.0  2.099753 -1.941680   0.0       0.0 -0.095506   \n",
       "4     1.0  0.978071       1.0  0.295874 -1.498933   0.0       0.0 -0.095506   \n",
       "\n",
       "   target  \n",
       "0       0  \n",
       "1       1  \n",
       "2       1  \n",
       "3       0  \n",
       "4       0  "
      ]
     },
     "execution_count": 3,
     "metadata": {},
     "output_type": "execute_result"
    }
   ],
   "source": [
    "import pandas as pd\n",
    "\n",
    "df = pd.read_csv(\"../data/Heart_Disease_Selected_Features.csv\")\n",
    "df.head()"
   ]
  },
  {
   "cell_type": "code",
   "execution_count": 4,
   "id": "65da1edb-9413-492a-9563-498bf0b27ffc",
   "metadata": {},
   "outputs": [],
   "source": [
    "from sklearn.model_selection import train_test_split\n",
    "X=df.drop(\"target\",axis=1)\n",
    "y=df[\"target\"]\n",
    "X_train ,X_test , y_train, y_test = train_test_split(X,y,test_size=0.2)"
   ]
  },
  {
   "cell_type": "code",
   "execution_count": 6,
   "id": "d8ea96aa-d1fb-4979-b0f5-a123e1322cab",
   "metadata": {},
   "outputs": [
    {
     "name": "stdout",
     "output_type": "stream",
     "text": [
      "Baseline Accuracy: 0.8666666666666667\n",
      "              precision    recall  f1-score   support\n",
      "\n",
      "           0       0.79      0.96      0.87        28\n",
      "           1       0.96      0.78      0.86        32\n",
      "\n",
      "    accuracy                           0.87        60\n",
      "   macro avg       0.88      0.87      0.87        60\n",
      "weighted avg       0.88      0.87      0.87        60\n",
      "\n"
     ]
    }
   ],
   "source": [
    "from sklearn.ensemble import RandomForestClassifier\n",
    "from sklearn.metrics import classification_report, accuracy_score\n",
    "\n",
    "baseline_model = RandomForestClassifier(random_state=42)\n",
    "baseline_model.fit(X_train, y_train)\n",
    "\n",
    "y_pred_base = baseline_model.predict(X_test)\n",
    "print(\"Baseline Accuracy:\", accuracy_score(y_test, y_pred_base))\n",
    "print(classification_report(y_test, y_pred_base))"
   ]
  },
  {
   "cell_type": "code",
   "execution_count": 7,
   "id": "e3d06193-5f23-4a65-9464-7516b782acfd",
   "metadata": {},
   "outputs": [
    {
     "name": "stdout",
     "output_type": "stream",
     "text": [
      "Fitting 5 folds for each of 108 candidates, totalling 540 fits\n",
      "Best Parameters (GridSearch): {'max_depth': 5, 'min_samples_leaf': 1, 'min_samples_split': 10, 'n_estimators': 300}\n",
      "Best CV Score: 0.8183510638297872\n"
     ]
    }
   ],
   "source": [
    "from sklearn.model_selection import GridSearchCV\n",
    "\n",
    "param_grid = {\n",
    "    \"n_estimators\": [100, 200, 300],\n",
    "    \"max_depth\": [None, 5, 10, 20],\n",
    "    \"min_samples_split\": [2, 5, 10],\n",
    "    \"min_samples_leaf\": [1, 2, 4]\n",
    "}\n",
    "\n",
    "grid_search = GridSearchCV(\n",
    "    estimator=RandomForestClassifier(random_state=42),\n",
    "    param_grid=param_grid,\n",
    "    cv=5,\n",
    "    scoring=\"accuracy\",\n",
    "    n_jobs=-1,\n",
    "    verbose=2\n",
    ")\n",
    "\n",
    "grid_search.fit(X_train, y_train)\n",
    "print(\"Best Parameters (GridSearch):\", grid_search.best_params_)\n",
    "print(\"Best CV Score:\", grid_search.best_score_)"
   ]
  },
  {
   "cell_type": "code",
   "execution_count": 8,
   "id": "277a0288-3a5b-45f0-902d-886f4c7c9ad6",
   "metadata": {},
   "outputs": [
    {
     "name": "stdout",
     "output_type": "stream",
     "text": [
      "Fitting 5 folds for each of 50 candidates, totalling 250 fits\n",
      "Best Parameters (RandomizedSearch): {'n_estimators': 200, 'min_samples_split': 10, 'min_samples_leaf': 9, 'max_depth': 25, 'bootstrap': True}\n",
      "Best CV Score: 0.8181737588652483\n"
     ]
    }
   ],
   "source": [
    "from sklearn.model_selection import RandomizedSearchCV\n",
    "import numpy as np\n",
    "\n",
    "param_dist = {\n",
    "    \"n_estimators\": np.arange(100, 1000, 100),\n",
    "    \"max_depth\": [None] + list(np.arange(5, 30, 5)),\n",
    "    \"min_samples_split\": np.arange(2, 15, 2),\n",
    "    \"min_samples_leaf\": np.arange(1, 10, 2),\n",
    "    \"bootstrap\": [True, False]\n",
    "}\n",
    "\n",
    "random_search = RandomizedSearchCV(\n",
    "    estimator=RandomForestClassifier(random_state=42),\n",
    "    param_distributions=param_dist,\n",
    "    n_iter=50,  # number of random combinations to try\n",
    "    cv=5,\n",
    "    scoring=\"accuracy\",\n",
    "    n_jobs=-1,\n",
    "    random_state=42,\n",
    "    verbose=2\n",
    ")\n",
    "\n",
    "random_search.fit(X_train, y_train)\n",
    "print(\"Best Parameters (RandomizedSearch):\", random_search.best_params_)\n",
    "print(\"Best CV Score:\", random_search.best_score_)\n"
   ]
  },
  {
   "cell_type": "code",
   "execution_count": 9,
   "id": "e19f92ff-43d3-47a3-aef6-5293cd82106b",
   "metadata": {},
   "outputs": [
    {
     "name": "stdout",
     "output_type": "stream",
     "text": [
      "GridSearch Test Accuracy: 0.8833333333333333\n",
      "RandomizedSearch Test Accuracy: 0.8666666666666667\n",
      "Baseline Test Accuracy: 0.8666666666666667\n"
     ]
    }
   ],
   "source": [
    "best_grid = grid_search.best_estimator_\n",
    "y_pred_grid = best_grid.predict(X_test)\n",
    "print(\"GridSearch Test Accuracy:\", accuracy_score(y_test, y_pred_grid))\n",
    "\n",
    "best_random = random_search.best_estimator_\n",
    "y_pred_random = best_random.predict(X_test)\n",
    "print(\"RandomizedSearch Test Accuracy:\", accuracy_score(y_test, y_pred_random))\n",
    "\n",
    "print(\"Baseline Test Accuracy:\", accuracy_score(y_test, y_pred_base))"
   ]
  },
  {
   "cell_type": "code",
   "execution_count": 13,
   "id": "857d27f6-2d59-46fa-80be-4f07abf6d123",
   "metadata": {},
   "outputs": [],
   "source": [
    "import joblib\n",
    "\n",
    "joblib.dump(grid_search.best_estimator_, \"../models/random_forest_model.pkl\")\n",
    "\n",
    "loaded_rf = joblib.load(\"../models/random_forest_model.pkl\")\n",
    "y_pred = loaded_rf.predict(X_test)"
   ]
  },
  {
   "cell_type": "code",
   "execution_count": 14,
   "id": "8ddb66da-c81c-4f24-bf57-87581814f03f",
   "metadata": {},
   "outputs": [
    {
     "name": "stdout",
     "output_type": "stream",
     "text": [
      "Test Accuracy: 0.8833333333333333\n"
     ]
    }
   ],
   "source": [
    "print(\"Test Accuracy:\", accuracy_score(y_test, y_pred))"
   ]
  },
  {
   "cell_type": "code",
   "execution_count": null,
   "id": "2e3305f0-5d5d-4285-9523-94a3cbc9b872",
   "metadata": {},
   "outputs": [],
   "source": []
  }
 ],
 "metadata": {
  "kernelspec": {
   "display_name": "Python [conda env:base] *",
   "language": "python",
   "name": "conda-base-py"
  },
  "language_info": {
   "codemirror_mode": {
    "name": "ipython",
    "version": 3
   },
   "file_extension": ".py",
   "mimetype": "text/x-python",
   "name": "python",
   "nbconvert_exporter": "python",
   "pygments_lexer": "ipython3",
   "version": "3.11.7"
  }
 },
 "nbformat": 4,
 "nbformat_minor": 5
}
